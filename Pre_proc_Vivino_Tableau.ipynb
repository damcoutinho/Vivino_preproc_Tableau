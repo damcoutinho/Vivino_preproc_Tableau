{
 "cells": [
  {
   "cell_type": "markdown",
   "metadata": {},
   "source": [
    "# Pré-processamento dos dados do Vivino para input no Tableau"
   ]
  },
  {
   "cell_type": "markdown",
   "metadata": {},
   "source": [
    "Este notebook descreve o passo-a-passo da preparação dos dados que baixei do meu perfil no Vivino em Junho de 2020, com o objetivo de construir um dashboard no Tableau para fins de análise exploratória.\n",
    "\n",
    "Este trabalho foi realizado em R. Para a instalação do kernel do R no Jupyter, o seguintes tutoriais podem ser úteis:\n",
    "\n",
    "- https://medium.com/@kyleake/how-to-install-r-in-jupyter-with-irkernel-in-3-steps-917519326e41\n",
    "- https://richpauloo.github.io/2018-05-16-Installing-the-R-kernel-in-Jupyter-Lab/\n",
    "\n",
    "O Vivino é um app onde os usuários podem catalogar, dar uma nota e escrever um review para os vinhos que degusta a partir do upload de uma foto do rótulo. Mais informações podem ser obtidas na Wikipedia: https://en.wikipedia.org/wiki/Vivino"
   ]
  },
  {
   "cell_type": "markdown",
   "metadata": {
    "collapsed": true
   },
   "source": [
    "Para realizar esta tarefa, optei por utilizar a biblioteca dplyr do R:"
   ]
  },
  {
   "cell_type": "code",
   "execution_count": 1,
   "metadata": {},
   "outputs": [
    {
     "name": "stderr",
     "output_type": "stream",
     "text": [
      "Warning message:\n",
      "\"package 'dplyr' was built under R version 3.6.3\"\n",
      "Attaching package: 'dplyr'\n",
      "\n",
      "The following objects are masked from 'package:stats':\n",
      "\n",
      "    filter, lag\n",
      "\n",
      "The following objects are masked from 'package:base':\n",
      "\n",
      "    intersect, setdiff, setequal, union\n",
      "\n"
     ]
    }
   ],
   "source": [
    "library(dplyr)"
   ]
  },
  {
   "cell_type": "markdown",
   "metadata": {
    "collapsed": true
   },
   "source": [
    "Em seguida carreguei o arquivo de interesse (full_wine_list.csv) que baixei do Vivino e verifiquei a sua estrutura e \n",
    "características gerais:"
   ]
  },
  {
   "cell_type": "code",
   "execution_count": 2,
   "metadata": {},
   "outputs": [
    {
     "data": {
      "text/html": [
       "<table>\n",
       "<thead><tr><th scope=col>Winery</th><th scope=col>Wine.name</th><th scope=col>Vintage</th><th scope=col>Region</th><th scope=col>Country</th><th scope=col>Regional.wine.style</th><th scope=col>Average.rating</th><th scope=col>Scan.date</th><th scope=col>Scan.Review.Location</th><th scope=col>Your.rating</th><th scope=col>Your.review</th><th scope=col>Personal.Note</th><th scope=col>Wine.type</th><th scope=col>Drinking.Window</th><th scope=col>Wishlisted.date</th><th scope=col>Cellar.count</th><th scope=col>Link.to.wine</th><th scope=col>Label.image</th><th scope=col>Wine.price</th></tr></thead>\n",
       "<tbody>\n",
       "\t<tr><td>Matetic                                                    </td><td>EQ Granite Pinot Noir                                      </td><td>2014                                                       </td><td>Casablanca Valley                                          </td><td>Chile                                                      </td><td>Chilean Pinot Noir                                         </td><td>3.97                                                       </td><td>2020-06-16 14:36:21                                        </td><td>NA                                                         </td><td>4                                                          </td><td>                                                           </td><td>NA                                                         </td><td>Red Wine                                                   </td><td>NA                                                         </td><td>NA                                                         </td><td>NA                                                         </td><td>https://www.vivino.com/wines/160547630                     </td><td>https://images.vivino.com/labels/FGBh-GGJQJG3hZNbVSZljw.jpg</td><td>                                                           </td></tr>\n",
       "</tbody>\n",
       "</table>\n"
      ],
      "text/latex": [
       "\\begin{tabular}{r|lllllllllllllllllll}\n",
       " Winery & Wine.name & Vintage & Region & Country & Regional.wine.style & Average.rating & Scan.date & Scan.Review.Location & Your.rating & Your.review & Personal.Note & Wine.type & Drinking.Window & Wishlisted.date & Cellar.count & Link.to.wine & Label.image & Wine.price\\\\\n",
       "\\hline\n",
       "\t Matetic                                                     & EQ Granite Pinot Noir                                       & 2014                                                        & Casablanca Valley                                           & Chile                                                       & Chilean Pinot Noir                                          & 3.97                                                        & 2020-06-16 14:36:21                                         & NA                                                          & 4                                                           &                                                             & NA                                                          & Red Wine                                                    & NA                                                          & NA                                                          & NA                                                          & https://www.vivino.com/wines/160547630                      & https://images.vivino.com/labels/FGBh-GGJQJG3hZNbVSZljw.jpg &                                                            \\\\\n",
       "\\end{tabular}\n"
      ],
      "text/markdown": [
       "\n",
       "| Winery | Wine.name | Vintage | Region | Country | Regional.wine.style | Average.rating | Scan.date | Scan.Review.Location | Your.rating | Your.review | Personal.Note | Wine.type | Drinking.Window | Wishlisted.date | Cellar.count | Link.to.wine | Label.image | Wine.price |\n",
       "|---|---|---|---|---|---|---|---|---|---|---|---|---|---|---|---|---|---|---|\n",
       "| Matetic                                                     | EQ Granite Pinot Noir                                       | 2014                                                        | Casablanca Valley                                           | Chile                                                       | Chilean Pinot Noir                                          | 3.97                                                        | 2020-06-16 14:36:21                                         | NA                                                          | 4                                                           |                                                             | NA                                                          | Red Wine                                                    | NA                                                          | NA                                                          | NA                                                          | https://www.vivino.com/wines/160547630                      | https://images.vivino.com/labels/FGBh-GGJQJG3hZNbVSZljw.jpg |                                                             |\n",
       "\n"
      ],
      "text/plain": [
       "  Winery  Wine.name             Vintage Region            Country\n",
       "1 Matetic EQ Granite Pinot Noir 2014    Casablanca Valley Chile  \n",
       "  Regional.wine.style Average.rating Scan.date           Scan.Review.Location\n",
       "1 Chilean Pinot Noir  3.97           2020-06-16 14:36:21 NA                  \n",
       "  Your.rating Your.review Personal.Note Wine.type Drinking.Window\n",
       "1 4                       NA            Red Wine  NA             \n",
       "  Wishlisted.date Cellar.count Link.to.wine                          \n",
       "1 NA              NA           https://www.vivino.com/wines/160547630\n",
       "  Label.image                                                 Wine.price\n",
       "1 https://images.vivino.com/labels/FGBh-GGJQJG3hZNbVSZljw.jpg           "
      ]
     },
     "metadata": {},
     "output_type": "display_data"
    },
    {
     "name": "stdout",
     "output_type": "stream",
     "text": [
      "'data.frame':\t87 obs. of  19 variables:\n",
      " $ Winery              : Factor w/ 78 levels \"Alamos\",\"Albert Bichot\",..: 50 3 61 38 8 73 9 23 25 75 ...\n",
      " $ Wine.name           : Factor w/ 75 levels \"Alta Malbec\",..: 27 32 67 24 53 9 68 74 8 65 ...\n",
      " $ Vintage             : int  2014 2018 2016 2017 2014 8888 2012 2018 2008 2017 ...\n",
      " $ Region              : Factor w/ 49 levels \"\",\"Aconcagua Valley\",..: 14 41 14 46 11 36 30 3 48 25 ...\n",
      " $ Country             : Factor w/ 13 levels \"\",\"Argentina\",..: 4 2 4 2 12 3 12 9 5 4 ...\n",
      " $ Regional.wine.style : Factor w/ 36 levels \"\",\"Argentinian Cabernet Sauvignon\",..: 22 4 22 2 14 10 15 29 1 20 ...\n",
      " $ Average.rating      : num  3.97 3.41 3.62 3.39 3.54 3.27 3.82 3.63 3.46 3.54 ...\n",
      " $ Scan.date           : Factor w/ 87 levels \"\",\"2014-11-09 22:25:45\",..: 87 86 85 84 83 82 81 80 79 78 ...\n",
      " $ Scan.Review.Location: logi  NA NA NA NA NA NA ...\n",
      " $ Your.rating         : num  4 3 NA 3 3.5 3 4 3.5 3 3 ...\n",
      " $ Your.review         : Factor w/ 8 levels \"\",\"!!!\",\"Ã\\200 sua saÃºde @[1|649078|Oswaldo R] ðŸ\\215·ðŸ––ðŸ\\217¼\",..: 1 1 1 1 1 1 1 3 1 1 ...\n",
      " $ Personal.Note       : logi  NA NA NA NA NA NA ...\n",
      " $ Wine.type           : Factor w/ 3 levels \"Red Wine\",\"Sparkling\",..: 1 1 1 1 1 2 1 1 2 1 ...\n",
      " $ Drinking.Window     : logi  NA NA NA NA NA NA ...\n",
      " $ Wishlisted.date     : logi  NA NA NA NA NA NA ...\n",
      " $ Cellar.count        : logi  NA NA NA NA NA NA ...\n",
      " $ Link.to.wine        : Factor w/ 87 levels \"https://www.vivino.com/wines/10959152\",..: 35 31 36 33 68 49 70 32 5 25 ...\n",
      " $ Label.image         : Factor w/ 87 levels \"\",\"https://images.vivino.com/labels/01fr6ckvjovjh.jpg\",..: 38 28 67 53 81 46 69 51 74 22 ...\n",
      " $ Wine.price          : Factor w/ 4 levels \"\",\"BRL 116\",\"BRL 40\",..: 1 1 1 1 1 1 1 1 1 1 ...\n"
     ]
    },
    {
     "data": {
      "text/plain": [
       "                  Winery                             Wine.name     Vintage    \n",
       " TarapacÃ¡           : 3   Cabernet Sauvignon             : 5   Min.   :2008  \n",
       " Alfredo Roca        : 2   Pinot Noir                     : 4   1st Qu.:2012  \n",
       " Casillero del Diablo: 2   Gran Reserva Cabernet Sauvignon: 3   Median :2014  \n",
       " CousiÃ±o-Macul      : 2   Fincas Malbec                  : 2   Mean   :2263  \n",
       " D.V. Catena         : 2   Malbec                         : 2   3rd Qu.:2016  \n",
       " Luigi Bosca         : 2   Reserva Malbec                 : 2   Max.   :9999  \n",
       " (Other)             :74   (Other)                        :69                 \n",
       "               Region            Country  \n",
       " Mendoza          :13   Chile        :28  \n",
       " Colchagua Valley : 8   Argentina    :26  \n",
       " Maipo Valley     : 5   France       : 9  \n",
       " Lujan de Cuyo    : 4   Italy        : 5  \n",
       " Casablanca Valley: 3   Spain        : 4  \n",
       " Central Valley   : 3   United States: 4  \n",
       " (Other)          :51   (Other)      :11  \n",
       "                     Regional.wine.style Average.rating \n",
       " Argentinian Malbec            :14       Min.   :3.130  \n",
       " Chilean CarmÃ©nÃ¨re           :10       1st Qu.:3.450  \n",
       "                               : 8       Median :3.620  \n",
       " Chilean Cabernet Sauvignon    : 8       Mean   :3.656  \n",
       " Chilean Pinot Noir            : 5       3rd Qu.:3.835  \n",
       " Argentinian Cabernet Sauvignon: 4       Max.   :4.360  \n",
       " (Other)                       :38                      \n",
       "               Scan.date  Scan.Review.Location  Your.rating  \n",
       "                    : 1   Mode:logical         Min.   :1.50  \n",
       " 2014-11-09 22:25:45: 1   NA's:87              1st Qu.:3.00  \n",
       " 2014-12-24 15:02:20: 1                        Median :3.00  \n",
       " 2014-12-25 16:08:10: 1                        Mean   :3.41  \n",
       " 2014-12-31 23:44:12: 1                        3rd Qu.:4.00  \n",
       " 2015-02-16 01:13:01: 1                        Max.   :5.00  \n",
       " (Other)            :81                        NA's   :4     \n",
       "                                           Your.review Personal.Note \n",
       "                                                 :80   Mode:logical  \n",
       " !!!                                             : 1   NA's:87       \n",
       " Ã\\200 sua saÃºde @[1|649078|Oswaldo R] ðŸ\\215·ðŸ––ðŸ\\217¼: 1                 \n",
       " Acidez alÃ©m da conta                           : 1                 \n",
       " ðŸ\\230‹ðŸ\\230‹ðŸ\\230‹                                    : 1                 \n",
       " Pouca acidez e final adocicado.                 : 1                 \n",
       " (Other)                                         : 2                 \n",
       "      Wine.type  Drinking.Window Wishlisted.date Cellar.count  \n",
       " Red Wine  :83   Mode:logical    Mode:logical    Mode:logical  \n",
       " Sparkling : 3   NA's:87         NA's:87         NA's:87       \n",
       " White Wine: 1                                                 \n",
       "                                                               \n",
       "                                                               \n",
       "                                                               \n",
       "                                                               \n",
       "                                 Link.to.wine\n",
       " https://www.vivino.com/wines/10959152 : 1   \n",
       " https://www.vivino.com/wines/111676021: 1   \n",
       " https://www.vivino.com/wines/11485157 : 1   \n",
       " https://www.vivino.com/wines/1194608  : 1   \n",
       " https://www.vivino.com/wines/1285840  : 1   \n",
       " https://www.vivino.com/wines/1335508  : 1   \n",
       " (Other)                               :81   \n",
       "                                             Label.image   Wine.price\n",
       "                                                   : 1          :84  \n",
       " https://images.vivino.com/labels/01fr6ckvjovjh.jpg: 1   BRL 116: 1  \n",
       " https://images.vivino.com/labels/01mqag1lbvi6f.jpg: 1   BRL 40 : 1  \n",
       " https://images.vivino.com/labels/01nduct7e1hio.jpg: 1   BRL 56 : 1  \n",
       " https://images.vivino.com/labels/01pcqkxrhie7s.jpg: 1               \n",
       " https://images.vivino.com/labels/01w84mwjff3tb.jpg: 1               \n",
       " (Other)                                           :81               "
      ]
     },
     "metadata": {},
     "output_type": "display_data"
    }
   ],
   "source": [
    "dados <- read.csv(file.choose())\n",
    "\n",
    "head(dados,1)\n",
    "str(dados)\n",
    "summary(dados)\n",
    "\n",
    "\n"
   ]
  },
  {
   "cell_type": "markdown",
   "metadata": {},
   "source": [
    "O resultado mostra que várias colunas do arquivo baixado não terão utilidade na minha análise. \n",
    "\n",
    "Por exemplo, colunas como \"Drinking.Window\",\"Scan.Review.Location\", dentre outras não possuem valor em nenhum dos registros, pois são campos que não preenchi quando fiz a avaliação dos rótulos.\n",
    "\n",
    "No trecho de código abaixo retirei todas as colunas que não são relevantes:"
   ]
  },
  {
   "cell_type": "code",
   "execution_count": 3,
   "metadata": {
    "collapsed": true
   },
   "outputs": [],
   "source": [
    "dados <- dados %>% \n",
    "  select(-c(Scan.Review.Location,Your.review,Personal.Note,Drinking.Window,\n",
    "            Wishlisted.date,Cellar.count,Wine.price))"
   ]
  },
  {
   "cell_type": "markdown",
   "metadata": {},
   "source": [
    "O próximo passo é verificar a qualidade dos dados das colunas remanescentes, bem como corrigir possíveis inconsistências.\n",
    "\n",
    "Vamos começar com a coluna \"Country\": o comando summary nos informou a existência de 17 países distintos e vamos verificar quais são eles:"
   ]
  },
  {
   "cell_type": "code",
   "execution_count": 4,
   "metadata": {},
   "outputs": [
    {
     "data": {
      "text/html": [
       "<table>\n",
       "<thead><tr><th scope=col>Country</th></tr></thead>\n",
       "<tbody>\n",
       "\t<tr><td>             </td></tr>\n",
       "\t<tr><td>Argentina    </td></tr>\n",
       "\t<tr><td>Brazil       </td></tr>\n",
       "\t<tr><td>Chile        </td></tr>\n",
       "\t<tr><td>France       </td></tr>\n",
       "\t<tr><td>Germany      </td></tr>\n",
       "\t<tr><td>Italy        </td></tr>\n",
       "\t<tr><td>New Zealand  </td></tr>\n",
       "\t<tr><td>Portugal     </td></tr>\n",
       "\t<tr><td>South Africa </td></tr>\n",
       "\t<tr><td>Spain        </td></tr>\n",
       "\t<tr><td>United States</td></tr>\n",
       "\t<tr><td>Uruguay      </td></tr>\n",
       "</tbody>\n",
       "</table>\n"
      ],
      "text/latex": [
       "\\begin{tabular}{r|l}\n",
       " Country\\\\\n",
       "\\hline\n",
       "\t              \\\\\n",
       "\t Argentina    \\\\\n",
       "\t Brazil       \\\\\n",
       "\t Chile        \\\\\n",
       "\t France       \\\\\n",
       "\t Germany      \\\\\n",
       "\t Italy        \\\\\n",
       "\t New Zealand  \\\\\n",
       "\t Portugal     \\\\\n",
       "\t South Africa \\\\\n",
       "\t Spain        \\\\\n",
       "\t United States\\\\\n",
       "\t Uruguay      \\\\\n",
       "\\end{tabular}\n"
      ],
      "text/markdown": [
       "\n",
       "| Country |\n",
       "|---|\n",
       "|               |\n",
       "| Argentina     |\n",
       "| Brazil        |\n",
       "| Chile         |\n",
       "| France        |\n",
       "| Germany       |\n",
       "| Italy         |\n",
       "| New Zealand   |\n",
       "| Portugal      |\n",
       "| South Africa  |\n",
       "| Spain         |\n",
       "| United States |\n",
       "| Uruguay       |\n",
       "\n"
      ],
      "text/plain": [
       "   Country      \n",
       "1               \n",
       "2  Argentina    \n",
       "3  Brazil       \n",
       "4  Chile        \n",
       "5  France       \n",
       "6  Germany      \n",
       "7  Italy        \n",
       "8  New Zealand  \n",
       "9  Portugal     \n",
       "10 South Africa \n",
       "11 Spain        \n",
       "12 United States\n",
       "13 Uruguay      "
      ]
     },
     "metadata": {},
     "output_type": "display_data"
    }
   ],
   "source": [
    "dados %>% distinct(Country) %>% arrange(Country)"
   ]
  },
  {
   "cell_type": "markdown",
   "metadata": {},
   "source": [
    "Como um dos valores únicos de país está em branco, vamos verificar quantas entradas são afetadas:"
   ]
  },
  {
   "cell_type": "code",
   "execution_count": 5,
   "metadata": {},
   "outputs": [
    {
     "data": {
      "text/html": [
       "<table>\n",
       "<thead><tr><th scope=col>Winery</th><th scope=col>Wine.name</th><th scope=col>Vintage</th><th scope=col>Region</th><th scope=col>Country</th><th scope=col>Regional.wine.style</th><th scope=col>Average.rating</th><th scope=col>Scan.date</th><th scope=col>Your.rating</th><th scope=col>Wine.type</th><th scope=col>Link.to.wine</th><th scope=col>Label.image</th></tr></thead>\n",
       "<tbody>\n",
       "\t<tr><td>Steakhouse                                                 </td><td>Brett Favre's Cabernet Sauvignon                           </td><td>2016                                                       </td><td>                                                           </td><td>                                                           </td><td>                                                           </td><td>3.13                                                       </td><td>2017-09-30 22:35:10                                        </td><td>NA                                                         </td><td>Red Wine                                                   </td><td>https://www.vivino.com/wines/154556162                     </td><td>https://images.vivino.com/labels/hmTFCi4SSDiVv5RJ6w-odQ.jpg</td></tr>\n",
       "</tbody>\n",
       "</table>\n"
      ],
      "text/latex": [
       "\\begin{tabular}{r|llllllllllll}\n",
       " Winery & Wine.name & Vintage & Region & Country & Regional.wine.style & Average.rating & Scan.date & Your.rating & Wine.type & Link.to.wine & Label.image\\\\\n",
       "\\hline\n",
       "\t Steakhouse                                                  & Brett Favre's Cabernet Sauvignon                            & 2016                                                        &                                                             &                                                             &                                                             & 3.13                                                        & 2017-09-30 22:35:10                                         & NA                                                          & Red Wine                                                    & https://www.vivino.com/wines/154556162                      & https://images.vivino.com/labels/hmTFCi4SSDiVv5RJ6w-odQ.jpg\\\\\n",
       "\\end{tabular}\n"
      ],
      "text/markdown": [
       "\n",
       "| Winery | Wine.name | Vintage | Region | Country | Regional.wine.style | Average.rating | Scan.date | Your.rating | Wine.type | Link.to.wine | Label.image |\n",
       "|---|---|---|---|---|---|---|---|---|---|---|---|\n",
       "| Steakhouse                                                  | Brett Favre's Cabernet Sauvignon                            | 2016                                                        |                                                             |                                                             |                                                             | 3.13                                                        | 2017-09-30 22:35:10                                         | NA                                                          | Red Wine                                                    | https://www.vivino.com/wines/154556162                      | https://images.vivino.com/labels/hmTFCi4SSDiVv5RJ6w-odQ.jpg |\n",
       "\n"
      ],
      "text/plain": [
       "  Winery     Wine.name                        Vintage Region Country\n",
       "1 Steakhouse Brett Favre's Cabernet Sauvignon 2016                  \n",
       "  Regional.wine.style Average.rating Scan.date           Your.rating Wine.type\n",
       "1                     3.13           2017-09-30 22:35:10 NA          Red Wine \n",
       "  Link.to.wine                          \n",
       "1 https://www.vivino.com/wines/154556162\n",
       "  Label.image                                                \n",
       "1 https://images.vivino.com/labels/hmTFCi4SSDiVv5RJ6w-odQ.jpg"
      ]
     },
     "metadata": {},
     "output_type": "display_data"
    }
   ],
   "source": [
    "dados %>% filter(Country==\"\")"
   ]
  },
  {
   "cell_type": "markdown",
   "metadata": {},
   "source": [
    "Apenas 1 das entradas foi afetada e, por inspeção manual deste vinho no Vivino, verifiquei que trata-se de um rótulo produzido na Argentina. Desta forma, vamos corrigir o registro:"
   ]
  },
  {
   "cell_type": "code",
   "execution_count": 6,
   "metadata": {
    "collapsed": true
   },
   "outputs": [],
   "source": [
    "dados <- dados %>%\n",
    "  mutate(Country=replace(Country,which(Country==\"\"),\"Argentina\"))"
   ]
  },
  {
   "cell_type": "markdown",
   "metadata": {},
   "source": [
    "Em seguida vamos verificar o campo \"Vintage\", pois o comando Summary indicou que o valor máximo deste campo é 9999, o que não é condizente com o ano de safra de um vinho. Vamos verificar os valores únicos:"
   ]
  },
  {
   "cell_type": "code",
   "execution_count": 7,
   "metadata": {},
   "outputs": [
    {
     "data": {
      "text/html": [
       "<table>\n",
       "<thead><tr><th scope=col>Vintage</th></tr></thead>\n",
       "<tbody>\n",
       "\t<tr><td>2008</td></tr>\n",
       "\t<tr><td>2009</td></tr>\n",
       "\t<tr><td>2010</td></tr>\n",
       "\t<tr><td>2011</td></tr>\n",
       "\t<tr><td>2012</td></tr>\n",
       "\t<tr><td>2013</td></tr>\n",
       "\t<tr><td>2014</td></tr>\n",
       "\t<tr><td>2015</td></tr>\n",
       "\t<tr><td>2016</td></tr>\n",
       "\t<tr><td>2017</td></tr>\n",
       "\t<tr><td>2018</td></tr>\n",
       "\t<tr><td>8888</td></tr>\n",
       "\t<tr><td>9999</td></tr>\n",
       "</tbody>\n",
       "</table>\n"
      ],
      "text/latex": [
       "\\begin{tabular}{r|l}\n",
       " Vintage\\\\\n",
       "\\hline\n",
       "\t 2008\\\\\n",
       "\t 2009\\\\\n",
       "\t 2010\\\\\n",
       "\t 2011\\\\\n",
       "\t 2012\\\\\n",
       "\t 2013\\\\\n",
       "\t 2014\\\\\n",
       "\t 2015\\\\\n",
       "\t 2016\\\\\n",
       "\t 2017\\\\\n",
       "\t 2018\\\\\n",
       "\t 8888\\\\\n",
       "\t 9999\\\\\n",
       "\\end{tabular}\n"
      ],
      "text/markdown": [
       "\n",
       "| Vintage |\n",
       "|---|\n",
       "| 2008 |\n",
       "| 2009 |\n",
       "| 2010 |\n",
       "| 2011 |\n",
       "| 2012 |\n",
       "| 2013 |\n",
       "| 2014 |\n",
       "| 2015 |\n",
       "| 2016 |\n",
       "| 2017 |\n",
       "| 2018 |\n",
       "| 8888 |\n",
       "| 9999 |\n",
       "\n"
      ],
      "text/plain": [
       "   Vintage\n",
       "1  2008   \n",
       "2  2009   \n",
       "3  2010   \n",
       "4  2011   \n",
       "5  2012   \n",
       "6  2013   \n",
       "7  2014   \n",
       "8  2015   \n",
       "9  2016   \n",
       "10 2017   \n",
       "11 2018   \n",
       "12 8888   \n",
       "13 9999   "
      ]
     },
     "metadata": {},
     "output_type": "display_data"
    }
   ],
   "source": [
    "dados %>% distinct(Vintage) %>% arrange(Vintage)"
   ]
  },
  {
   "cell_type": "markdown",
   "metadata": {},
   "source": [
    "Em seguida vamos buscar as entradas afetadas pelos valores 8888 e 9999:"
   ]
  },
  {
   "cell_type": "code",
   "execution_count": 8,
   "metadata": {},
   "outputs": [
    {
     "data": {
      "text/html": [
       "<table>\n",
       "<thead><tr><th scope=col>Winery</th><th scope=col>Wine.name</th><th scope=col>Vintage</th><th scope=col>Region</th><th scope=col>Country</th><th scope=col>Regional.wine.style</th><th scope=col>Average.rating</th><th scope=col>Scan.date</th><th scope=col>Your.rating</th><th scope=col>Wine.type</th><th scope=col>Link.to.wine</th><th scope=col>Label.image</th></tr></thead>\n",
       "<tbody>\n",
       "\t<tr><td>VinÃ­cola Hermann                                          </td><td>Bossa No. 1 Brut                                           </td><td>8888                                                       </td><td>Rio Grande do Sul                                          </td><td>Brazil                                                     </td><td>Brazilian Sparkling                                        </td><td>3.27                                                       </td><td>2020-01-10 00:34:27                                        </td><td>3                                                          </td><td>Sparkling                                                  </td><td>https://www.vivino.com/wines/2183905                       </td><td>https://images.vivino.com/labels/iTw1X0jNSne-pOcf8Hmabg.jpg</td></tr>\n",
       "\t<tr><td>I Castelli di Romeo e Giulietta                            </td><td>Bardolino                                                  </td><td>9999                                                       </td><td>Bardolino                                                  </td><td>Italy                                                      </td><td>Northern Italy Red                                         </td><td>3.23                                                       </td><td>2019-03-28 18:53:08                                        </td><td>3                                                          </td><td>Red Wine                                                   </td><td>https://www.vivino.com/wines/4433694                       </td><td>https://images.vivino.com/labels/Kxjmg2jfQbq5w5XqNlcr3g.jpg</td></tr>\n",
       "\t<tr><td>Col Brioso                                                 </td><td>Gran CuvÃ©e Extra Dry                                      </td><td>8888                                                       </td><td>Prosecco                                                   </td><td>Italy                                                      </td><td>Italian Prosecco                                           </td><td>3.58                                                       </td><td>2018-12-21 23:03:12                                        </td><td>3                                                          </td><td>Sparkling                                                  </td><td>https://www.vivino.com/wines/152392933                     </td><td>https://images.vivino.com/labels/jFay58HSQ6OhPJpUs9mxrw.jpg</td></tr>\n",
       "</tbody>\n",
       "</table>\n"
      ],
      "text/latex": [
       "\\begin{tabular}{r|llllllllllll}\n",
       " Winery & Wine.name & Vintage & Region & Country & Regional.wine.style & Average.rating & Scan.date & Your.rating & Wine.type & Link.to.wine & Label.image\\\\\n",
       "\\hline\n",
       "\t VinÃ­cola Hermann                                           & Bossa No. 1 Brut                                            & 8888                                                        & Rio Grande do Sul                                           & Brazil                                                      & Brazilian Sparkling                                         & 3.27                                                        & 2020-01-10 00:34:27                                         & 3                                                           & Sparkling                                                   & https://www.vivino.com/wines/2183905                        & https://images.vivino.com/labels/iTw1X0jNSne-pOcf8Hmabg.jpg\\\\\n",
       "\t I Castelli di Romeo e Giulietta                             & Bardolino                                                   & 9999                                                        & Bardolino                                                   & Italy                                                       & Northern Italy Red                                          & 3.23                                                        & 2019-03-28 18:53:08                                         & 3                                                           & Red Wine                                                    & https://www.vivino.com/wines/4433694                        & https://images.vivino.com/labels/Kxjmg2jfQbq5w5XqNlcr3g.jpg\\\\\n",
       "\t Col Brioso                                                  & Gran CuvÃ©e Extra Dry                                       & 8888                                                        & Prosecco                                                    & Italy                                                       & Italian Prosecco                                            & 3.58                                                        & 2018-12-21 23:03:12                                         & 3                                                           & Sparkling                                                   & https://www.vivino.com/wines/152392933                      & https://images.vivino.com/labels/jFay58HSQ6OhPJpUs9mxrw.jpg\\\\\n",
       "\\end{tabular}\n"
      ],
      "text/markdown": [
       "\n",
       "| Winery | Wine.name | Vintage | Region | Country | Regional.wine.style | Average.rating | Scan.date | Your.rating | Wine.type | Link.to.wine | Label.image |\n",
       "|---|---|---|---|---|---|---|---|---|---|---|---|\n",
       "| VinÃ­cola Hermann                                           | Bossa No. 1 Brut                                            | 8888                                                        | Rio Grande do Sul                                           | Brazil                                                      | Brazilian Sparkling                                         | 3.27                                                        | 2020-01-10 00:34:27                                         | 3                                                           | Sparkling                                                   | https://www.vivino.com/wines/2183905                        | https://images.vivino.com/labels/iTw1X0jNSne-pOcf8Hmabg.jpg |\n",
       "| I Castelli di Romeo e Giulietta                             | Bardolino                                                   | 9999                                                        | Bardolino                                                   | Italy                                                       | Northern Italy Red                                          | 3.23                                                        | 2019-03-28 18:53:08                                         | 3                                                           | Red Wine                                                    | https://www.vivino.com/wines/4433694                        | https://images.vivino.com/labels/Kxjmg2jfQbq5w5XqNlcr3g.jpg |\n",
       "| Col Brioso                                                  | Gran CuvÃ©e Extra Dry                                       | 8888                                                        | Prosecco                                                    | Italy                                                       | Italian Prosecco                                            | 3.58                                                        | 2018-12-21 23:03:12                                         | 3                                                           | Sparkling                                                   | https://www.vivino.com/wines/152392933                      | https://images.vivino.com/labels/jFay58HSQ6OhPJpUs9mxrw.jpg |\n",
       "\n"
      ],
      "text/plain": [
       "  Winery                          Wine.name             Vintage\n",
       "1 VinÃ­cola Hermann               Bossa No. 1 Brut      8888   \n",
       "2 I Castelli di Romeo e Giulietta Bardolino             9999   \n",
       "3 Col Brioso                      Gran CuvÃ©e Extra Dry 8888   \n",
       "  Region            Country Regional.wine.style Average.rating\n",
       "1 Rio Grande do Sul Brazil  Brazilian Sparkling 3.27          \n",
       "2 Bardolino         Italy   Northern Italy Red  3.23          \n",
       "3 Prosecco          Italy   Italian Prosecco    3.58          \n",
       "  Scan.date           Your.rating Wine.type\n",
       "1 2020-01-10 00:34:27 3           Sparkling\n",
       "2 2019-03-28 18:53:08 3           Red Wine \n",
       "3 2018-12-21 23:03:12 3           Sparkling\n",
       "  Link.to.wine                          \n",
       "1 https://www.vivino.com/wines/2183905  \n",
       "2 https://www.vivino.com/wines/4433694  \n",
       "3 https://www.vivino.com/wines/152392933\n",
       "  Label.image                                                \n",
       "1 https://images.vivino.com/labels/iTw1X0jNSne-pOcf8Hmabg.jpg\n",
       "2 https://images.vivino.com/labels/Kxjmg2jfQbq5w5XqNlcr3g.jpg\n",
       "3 https://images.vivino.com/labels/jFay58HSQ6OhPJpUs9mxrw.jpg"
      ]
     },
     "metadata": {},
     "output_type": "display_data"
    }
   ],
   "source": [
    "dados %>% filter(Vintage == 8888 | Vintage == 9999)"
   ]
  },
  {
   "cell_type": "markdown",
   "metadata": {},
   "source": [
    "Concluí que o valor 8888 está atrelado a espumantes e, para esta categoria,especificar a safra não é aplicável. Já o valor 9999 refere-se a um vinho tinto e, ao verificar manualmente no Vivino, não consegui encontrar a safra no rótulo. Deixei estes valores para serem tratados posteriormente no Tableau (utilizarei um Alias para substituí-los nos gráficos)."
   ]
  },
  {
   "cell_type": "markdown",
   "metadata": {},
   "source": [
    "Os próximos campos a serem analisados são \"Average.rating\" e \"Your.rating\", pois uma das coisas que quero saber é se minhas avaliações são melhores ou piores que a média de avaliações do Vivino.\n",
    "\n",
    "A saída do comando Summary mostrou que o campo \"Average.rating\" está ok, pois todos os valores estão presentes e contidos no intervalo de 0 a 5, nota mínima e máxima que pode ser dada a um rótulo, respectivamente. Já o \"Your.rating\" possui NAs e vamos verificar os registros afetados:"
   ]
  },
  {
   "cell_type": "code",
   "execution_count": 9,
   "metadata": {},
   "outputs": [
    {
     "data": {
      "text/html": [
       "<table>\n",
       "<thead><tr><th scope=col>Winery</th><th scope=col>Wine.name</th><th scope=col>Vintage</th><th scope=col>Region</th><th scope=col>Country</th><th scope=col>Regional.wine.style</th><th scope=col>Average.rating</th><th scope=col>Scan.date</th><th scope=col>Your.rating</th><th scope=col>Wine.type</th><th scope=col>Link.to.wine</th><th scope=col>Label.image</th></tr></thead>\n",
       "<tbody>\n",
       "\t<tr><td>Sideways                                                   </td><td>Signature Series Pinot Noir                                </td><td>2016                                                       </td><td>Casablanca Valley                                          </td><td>Chile                                                      </td><td>Chilean Pinot Noir                                         </td><td>3.62                                                       </td><td>2020-01-26 17:39:44                                        </td><td>NA                                                         </td><td>Red Wine                                                   </td><td>https://www.vivino.com/wines/161911521                     </td><td>https://images.vivino.com/labels/tN8KLpyRSoiMmYJ9F18Znw.jpg</td></tr>\n",
       "\t<tr><td>Los Riscos                                                 </td><td>Cabernet Sauvignon                                         </td><td>2016                                                       </td><td>Curico Valley                                              </td><td>Chile                                                      </td><td>Chilean Cabernet Sauvignon                                 </td><td>3.18                                                       </td><td>2018-01-27 20:46:44                                        </td><td>NA                                                         </td><td>Red Wine                                                   </td><td>https://www.vivino.com/wines/99118949                      </td><td>https://images.vivino.com/labels/2wH7dxWsQJW7hhLu1mJk7Q.jpg</td></tr>\n",
       "\t<tr><td>Steakhouse                                                 </td><td>Brett Favre's Cabernet Sauvignon                           </td><td>2016                                                       </td><td>                                                           </td><td>Argentina                                                  </td><td>                                                           </td><td>3.13                                                       </td><td>2017-09-30 22:35:10                                        </td><td>NA                                                         </td><td>Red Wine                                                   </td><td>https://www.vivino.com/wines/154556162                     </td><td>https://images.vivino.com/labels/hmTFCi4SSDiVv5RJ6w-odQ.jpg</td></tr>\n",
       "\t<tr><td>TarapacÃ¡                                                  </td><td>Terroir El Rosal Pinot Noir                                </td><td>2013                                                       </td><td>Casablanca Valley                                          </td><td>Chile                                                      </td><td>Chilean Pinot Noir                                         </td><td>3.57                                                       </td><td>2016-03-05 19:17:50                                        </td><td>NA                                                         </td><td>Red Wine                                                   </td><td>https://www.vivino.com/wines/7300440                       </td><td>https://images.vivino.com/labels/VD9ouAVNRTybvSP01AO9KQ.jpg</td></tr>\n",
       "</tbody>\n",
       "</table>\n"
      ],
      "text/latex": [
       "\\begin{tabular}{r|llllllllllll}\n",
       " Winery & Wine.name & Vintage & Region & Country & Regional.wine.style & Average.rating & Scan.date & Your.rating & Wine.type & Link.to.wine & Label.image\\\\\n",
       "\\hline\n",
       "\t Sideways                                                    & Signature Series Pinot Noir                                 & 2016                                                        & Casablanca Valley                                           & Chile                                                       & Chilean Pinot Noir                                          & 3.62                                                        & 2020-01-26 17:39:44                                         & NA                                                          & Red Wine                                                    & https://www.vivino.com/wines/161911521                      & https://images.vivino.com/labels/tN8KLpyRSoiMmYJ9F18Znw.jpg\\\\\n",
       "\t Los Riscos                                                  & Cabernet Sauvignon                                          & 2016                                                        & Curico Valley                                               & Chile                                                       & Chilean Cabernet Sauvignon                                  & 3.18                                                        & 2018-01-27 20:46:44                                         & NA                                                          & Red Wine                                                    & https://www.vivino.com/wines/99118949                       & https://images.vivino.com/labels/2wH7dxWsQJW7hhLu1mJk7Q.jpg\\\\\n",
       "\t Steakhouse                                                  & Brett Favre's Cabernet Sauvignon                            & 2016                                                        &                                                             & Argentina                                                   &                                                             & 3.13                                                        & 2017-09-30 22:35:10                                         & NA                                                          & Red Wine                                                    & https://www.vivino.com/wines/154556162                      & https://images.vivino.com/labels/hmTFCi4SSDiVv5RJ6w-odQ.jpg\\\\\n",
       "\t TarapacÃ¡                                                   & Terroir El Rosal Pinot Noir                                 & 2013                                                        & Casablanca Valley                                           & Chile                                                       & Chilean Pinot Noir                                          & 3.57                                                        & 2016-03-05 19:17:50                                         & NA                                                          & Red Wine                                                    & https://www.vivino.com/wines/7300440                        & https://images.vivino.com/labels/VD9ouAVNRTybvSP01AO9KQ.jpg\\\\\n",
       "\\end{tabular}\n"
      ],
      "text/markdown": [
       "\n",
       "| Winery | Wine.name | Vintage | Region | Country | Regional.wine.style | Average.rating | Scan.date | Your.rating | Wine.type | Link.to.wine | Label.image |\n",
       "|---|---|---|---|---|---|---|---|---|---|---|---|\n",
       "| Sideways                                                    | Signature Series Pinot Noir                                 | 2016                                                        | Casablanca Valley                                           | Chile                                                       | Chilean Pinot Noir                                          | 3.62                                                        | 2020-01-26 17:39:44                                         | NA                                                          | Red Wine                                                    | https://www.vivino.com/wines/161911521                      | https://images.vivino.com/labels/tN8KLpyRSoiMmYJ9F18Znw.jpg |\n",
       "| Los Riscos                                                  | Cabernet Sauvignon                                          | 2016                                                        | Curico Valley                                               | Chile                                                       | Chilean Cabernet Sauvignon                                  | 3.18                                                        | 2018-01-27 20:46:44                                         | NA                                                          | Red Wine                                                    | https://www.vivino.com/wines/99118949                       | https://images.vivino.com/labels/2wH7dxWsQJW7hhLu1mJk7Q.jpg |\n",
       "| Steakhouse                                                  | Brett Favre's Cabernet Sauvignon                            | 2016                                                        |                                                             | Argentina                                                   |                                                             | 3.13                                                        | 2017-09-30 22:35:10                                         | NA                                                          | Red Wine                                                    | https://www.vivino.com/wines/154556162                      | https://images.vivino.com/labels/hmTFCi4SSDiVv5RJ6w-odQ.jpg |\n",
       "| TarapacÃ¡                                                   | Terroir El Rosal Pinot Noir                                 | 2013                                                        | Casablanca Valley                                           | Chile                                                       | Chilean Pinot Noir                                          | 3.57                                                        | 2016-03-05 19:17:50                                         | NA                                                          | Red Wine                                                    | https://www.vivino.com/wines/7300440                        | https://images.vivino.com/labels/VD9ouAVNRTybvSP01AO9KQ.jpg |\n",
       "\n"
      ],
      "text/plain": [
       "  Winery     Wine.name                        Vintage Region           \n",
       "1 Sideways   Signature Series Pinot Noir      2016    Casablanca Valley\n",
       "2 Los Riscos Cabernet Sauvignon               2016    Curico Valley    \n",
       "3 Steakhouse Brett Favre's Cabernet Sauvignon 2016                     \n",
       "4 TarapacÃ¡  Terroir El Rosal Pinot Noir      2013    Casablanca Valley\n",
       "  Country   Regional.wine.style        Average.rating Scan.date          \n",
       "1 Chile     Chilean Pinot Noir         3.62           2020-01-26 17:39:44\n",
       "2 Chile     Chilean Cabernet Sauvignon 3.18           2018-01-27 20:46:44\n",
       "3 Argentina                            3.13           2017-09-30 22:35:10\n",
       "4 Chile     Chilean Pinot Noir         3.57           2016-03-05 19:17:50\n",
       "  Your.rating Wine.type Link.to.wine                          \n",
       "1 NA          Red Wine  https://www.vivino.com/wines/161911521\n",
       "2 NA          Red Wine  https://www.vivino.com/wines/99118949 \n",
       "3 NA          Red Wine  https://www.vivino.com/wines/154556162\n",
       "4 NA          Red Wine  https://www.vivino.com/wines/7300440  \n",
       "  Label.image                                                \n",
       "1 https://images.vivino.com/labels/tN8KLpyRSoiMmYJ9F18Znw.jpg\n",
       "2 https://images.vivino.com/labels/2wH7dxWsQJW7hhLu1mJk7Q.jpg\n",
       "3 https://images.vivino.com/labels/hmTFCi4SSDiVv5RJ6w-odQ.jpg\n",
       "4 https://images.vivino.com/labels/VD9ouAVNRTybvSP01AO9KQ.jpg"
      ]
     },
     "metadata": {},
     "output_type": "display_data"
    }
   ],
   "source": [
    "dados %>% filter(is.na(Your.rating))"
   ]
  },
  {
   "cell_type": "markdown",
   "metadata": {},
   "source": [
    "Verifiquei no Vivino que, de fato, minha avaliação não ficou registrada para estes rótulos. Visto que normalmente dou nota 3 nos vinhos que acho bons para o dia a dia e que, seu eu achasse algo especial nesses rótulos a ponto de elevar a nota, eu dificilmente teria deixado de registrar resolvi aplicar a nota 3 a todos eles."
   ]
  },
  {
   "cell_type": "code",
   "execution_count": 10,
   "metadata": {},
   "outputs": [
    {
     "data": {
      "text/plain": [
       "\n",
       "1.5   3 3.5   4 4.5   5 \n",
       "  1  41  18  17   5   1 "
      ]
     },
     "metadata": {},
     "output_type": "display_data"
    }
   ],
   "source": [
    "table(dados$Your.rating)\n",
    "\n",
    "dados <- dados %>%\n",
    "  mutate(Your.rating=replace(Your.rating,which(is.na(Your.rating)),3))"
   ]
  },
  {
   "cell_type": "markdown",
   "metadata": {},
   "source": [
    "Por último analisei a qualidade do campo \"Scan.date\", pois pretendo filtrar as análises por ano de degustação:"
   ]
  },
  {
   "cell_type": "code",
   "execution_count": 11,
   "metadata": {},
   "outputs": [
    {
     "data": {
      "text/html": [
       "<table>\n",
       "<thead><tr><th scope=col>Scan.date</th></tr></thead>\n",
       "<tbody>\n",
       "\t<tr><td>                   </td></tr>\n",
       "\t<tr><td>2014-11-09 22:25:45</td></tr>\n",
       "\t<tr><td>2014-12-24 15:02:20</td></tr>\n",
       "\t<tr><td>2014-12-25 16:08:10</td></tr>\n",
       "\t<tr><td>2014-12-31 23:44:12</td></tr>\n",
       "\t<tr><td>2015-02-16 01:13:01</td></tr>\n",
       "\t<tr><td>2015-02-16 15:00:13</td></tr>\n",
       "\t<tr><td>2015-03-01 23:30:27</td></tr>\n",
       "\t<tr><td>2015-04-18 16:34:29</td></tr>\n",
       "\t<tr><td>2015-05-03 22:38:55</td></tr>\n",
       "\t<tr><td>2015-06-05 21:43:36</td></tr>\n",
       "\t<tr><td>2015-06-17 22:46:21</td></tr>\n",
       "\t<tr><td>2015-06-29 00:07:01</td></tr>\n",
       "\t<tr><td>2015-07-04 22:54:50</td></tr>\n",
       "\t<tr><td>2015-07-18 22:02:45</td></tr>\n",
       "\t<tr><td>2015-08-09 22:36:17</td></tr>\n",
       "\t<tr><td>2015-09-11 00:24:15</td></tr>\n",
       "\t<tr><td>2015-10-03 23:50:00</td></tr>\n",
       "\t<tr><td>2015-10-24 23:05:09</td></tr>\n",
       "\t<tr><td>2015-10-31 22:35:27</td></tr>\n",
       "\t<tr><td>2015-11-07 22:10:52</td></tr>\n",
       "\t<tr><td>2015-12-31 14:55:55</td></tr>\n",
       "\t<tr><td>2016-01-20 21:53:38</td></tr>\n",
       "\t<tr><td>2016-03-05 19:17:50</td></tr>\n",
       "\t<tr><td>2016-03-25 15:55:07</td></tr>\n",
       "\t<tr><td>2016-03-26 16:15:27</td></tr>\n",
       "\t<tr><td>2016-07-14 23:14:31</td></tr>\n",
       "\t<tr><td>2016-07-19 23:16:41</td></tr>\n",
       "\t<tr><td>2016-07-29 22:12:44</td></tr>\n",
       "\t<tr><td>2016-08-04 16:25:20</td></tr>\n",
       "\t<tr><td>...</td></tr>\n",
       "\t<tr><td>2018-07-07 22:10:30</td></tr>\n",
       "\t<tr><td>2018-07-14 23:25:01</td></tr>\n",
       "\t<tr><td>2018-07-22 23:51:27</td></tr>\n",
       "\t<tr><td>2018-08-12 16:03:42</td></tr>\n",
       "\t<tr><td>2018-09-16 23:34:44</td></tr>\n",
       "\t<tr><td>2018-09-20 23:42:05</td></tr>\n",
       "\t<tr><td>2018-09-25 16:27:03</td></tr>\n",
       "\t<tr><td>2018-09-29 23:36:45</td></tr>\n",
       "\t<tr><td>2018-10-27 18:39:42</td></tr>\n",
       "\t<tr><td>2018-11-17 16:33:50</td></tr>\n",
       "\t<tr><td>2018-12-21 23:03:12</td></tr>\n",
       "\t<tr><td>2018-12-29 15:41:39</td></tr>\n",
       "\t<tr><td>2019-02-24 22:52:34</td></tr>\n",
       "\t<tr><td>2019-03-02 23:45:09</td></tr>\n",
       "\t<tr><td>2019-03-28 18:53:08</td></tr>\n",
       "\t<tr><td>2019-04-14 00:38:27</td></tr>\n",
       "\t<tr><td>2019-04-14 00:54:01</td></tr>\n",
       "\t<tr><td>2019-04-17 21:50:56</td></tr>\n",
       "\t<tr><td>2019-05-03 23:22:31</td></tr>\n",
       "\t<tr><td>2019-05-05 22:28:44</td></tr>\n",
       "\t<tr><td>2019-11-07 23:35:41</td></tr>\n",
       "\t<tr><td>2019-12-21 00:39:17</td></tr>\n",
       "\t<tr><td>2019-12-24 18:30:54</td></tr>\n",
       "\t<tr><td>2020-01-01 23:20:58</td></tr>\n",
       "\t<tr><td>2020-01-10 00:34:27</td></tr>\n",
       "\t<tr><td>2020-01-10 23:45:10</td></tr>\n",
       "\t<tr><td>2020-01-22 23:23:07</td></tr>\n",
       "\t<tr><td>2020-01-26 17:39:44</td></tr>\n",
       "\t<tr><td>2020-05-16 22:48:15</td></tr>\n",
       "\t<tr><td>2020-06-16 14:36:21</td></tr>\n",
       "</tbody>\n",
       "</table>\n"
      ],
      "text/latex": [
       "\\begin{tabular}{r|l}\n",
       " Scan.date\\\\\n",
       "\\hline\n",
       "\t                    \\\\\n",
       "\t 2014-11-09 22:25:45\\\\\n",
       "\t 2014-12-24 15:02:20\\\\\n",
       "\t 2014-12-25 16:08:10\\\\\n",
       "\t 2014-12-31 23:44:12\\\\\n",
       "\t 2015-02-16 01:13:01\\\\\n",
       "\t 2015-02-16 15:00:13\\\\\n",
       "\t 2015-03-01 23:30:27\\\\\n",
       "\t 2015-04-18 16:34:29\\\\\n",
       "\t 2015-05-03 22:38:55\\\\\n",
       "\t 2015-06-05 21:43:36\\\\\n",
       "\t 2015-06-17 22:46:21\\\\\n",
       "\t 2015-06-29 00:07:01\\\\\n",
       "\t 2015-07-04 22:54:50\\\\\n",
       "\t 2015-07-18 22:02:45\\\\\n",
       "\t 2015-08-09 22:36:17\\\\\n",
       "\t 2015-09-11 00:24:15\\\\\n",
       "\t 2015-10-03 23:50:00\\\\\n",
       "\t 2015-10-24 23:05:09\\\\\n",
       "\t 2015-10-31 22:35:27\\\\\n",
       "\t 2015-11-07 22:10:52\\\\\n",
       "\t 2015-12-31 14:55:55\\\\\n",
       "\t 2016-01-20 21:53:38\\\\\n",
       "\t 2016-03-05 19:17:50\\\\\n",
       "\t 2016-03-25 15:55:07\\\\\n",
       "\t 2016-03-26 16:15:27\\\\\n",
       "\t 2016-07-14 23:14:31\\\\\n",
       "\t 2016-07-19 23:16:41\\\\\n",
       "\t 2016-07-29 22:12:44\\\\\n",
       "\t 2016-08-04 16:25:20\\\\\n",
       "\t ...\\\\\n",
       "\t 2018-07-07 22:10:30\\\\\n",
       "\t 2018-07-14 23:25:01\\\\\n",
       "\t 2018-07-22 23:51:27\\\\\n",
       "\t 2018-08-12 16:03:42\\\\\n",
       "\t 2018-09-16 23:34:44\\\\\n",
       "\t 2018-09-20 23:42:05\\\\\n",
       "\t 2018-09-25 16:27:03\\\\\n",
       "\t 2018-09-29 23:36:45\\\\\n",
       "\t 2018-10-27 18:39:42\\\\\n",
       "\t 2018-11-17 16:33:50\\\\\n",
       "\t 2018-12-21 23:03:12\\\\\n",
       "\t 2018-12-29 15:41:39\\\\\n",
       "\t 2019-02-24 22:52:34\\\\\n",
       "\t 2019-03-02 23:45:09\\\\\n",
       "\t 2019-03-28 18:53:08\\\\\n",
       "\t 2019-04-14 00:38:27\\\\\n",
       "\t 2019-04-14 00:54:01\\\\\n",
       "\t 2019-04-17 21:50:56\\\\\n",
       "\t 2019-05-03 23:22:31\\\\\n",
       "\t 2019-05-05 22:28:44\\\\\n",
       "\t 2019-11-07 23:35:41\\\\\n",
       "\t 2019-12-21 00:39:17\\\\\n",
       "\t 2019-12-24 18:30:54\\\\\n",
       "\t 2020-01-01 23:20:58\\\\\n",
       "\t 2020-01-10 00:34:27\\\\\n",
       "\t 2020-01-10 23:45:10\\\\\n",
       "\t 2020-01-22 23:23:07\\\\\n",
       "\t 2020-01-26 17:39:44\\\\\n",
       "\t 2020-05-16 22:48:15\\\\\n",
       "\t 2020-06-16 14:36:21\\\\\n",
       "\\end{tabular}\n"
      ],
      "text/markdown": [
       "\n",
       "| Scan.date |\n",
       "|---|\n",
       "|                     |\n",
       "| 2014-11-09 22:25:45 |\n",
       "| 2014-12-24 15:02:20 |\n",
       "| 2014-12-25 16:08:10 |\n",
       "| 2014-12-31 23:44:12 |\n",
       "| 2015-02-16 01:13:01 |\n",
       "| 2015-02-16 15:00:13 |\n",
       "| 2015-03-01 23:30:27 |\n",
       "| 2015-04-18 16:34:29 |\n",
       "| 2015-05-03 22:38:55 |\n",
       "| 2015-06-05 21:43:36 |\n",
       "| 2015-06-17 22:46:21 |\n",
       "| 2015-06-29 00:07:01 |\n",
       "| 2015-07-04 22:54:50 |\n",
       "| 2015-07-18 22:02:45 |\n",
       "| 2015-08-09 22:36:17 |\n",
       "| 2015-09-11 00:24:15 |\n",
       "| 2015-10-03 23:50:00 |\n",
       "| 2015-10-24 23:05:09 |\n",
       "| 2015-10-31 22:35:27 |\n",
       "| 2015-11-07 22:10:52 |\n",
       "| 2015-12-31 14:55:55 |\n",
       "| 2016-01-20 21:53:38 |\n",
       "| 2016-03-05 19:17:50 |\n",
       "| 2016-03-25 15:55:07 |\n",
       "| 2016-03-26 16:15:27 |\n",
       "| 2016-07-14 23:14:31 |\n",
       "| 2016-07-19 23:16:41 |\n",
       "| 2016-07-29 22:12:44 |\n",
       "| 2016-08-04 16:25:20 |\n",
       "| ... |\n",
       "| 2018-07-07 22:10:30 |\n",
       "| 2018-07-14 23:25:01 |\n",
       "| 2018-07-22 23:51:27 |\n",
       "| 2018-08-12 16:03:42 |\n",
       "| 2018-09-16 23:34:44 |\n",
       "| 2018-09-20 23:42:05 |\n",
       "| 2018-09-25 16:27:03 |\n",
       "| 2018-09-29 23:36:45 |\n",
       "| 2018-10-27 18:39:42 |\n",
       "| 2018-11-17 16:33:50 |\n",
       "| 2018-12-21 23:03:12 |\n",
       "| 2018-12-29 15:41:39 |\n",
       "| 2019-02-24 22:52:34 |\n",
       "| 2019-03-02 23:45:09 |\n",
       "| 2019-03-28 18:53:08 |\n",
       "| 2019-04-14 00:38:27 |\n",
       "| 2019-04-14 00:54:01 |\n",
       "| 2019-04-17 21:50:56 |\n",
       "| 2019-05-03 23:22:31 |\n",
       "| 2019-05-05 22:28:44 |\n",
       "| 2019-11-07 23:35:41 |\n",
       "| 2019-12-21 00:39:17 |\n",
       "| 2019-12-24 18:30:54 |\n",
       "| 2020-01-01 23:20:58 |\n",
       "| 2020-01-10 00:34:27 |\n",
       "| 2020-01-10 23:45:10 |\n",
       "| 2020-01-22 23:23:07 |\n",
       "| 2020-01-26 17:39:44 |\n",
       "| 2020-05-16 22:48:15 |\n",
       "| 2020-06-16 14:36:21 |\n",
       "\n"
      ],
      "text/plain": [
       "    Scan.date          \n",
       "1                      \n",
       "2   2014-11-09 22:25:45\n",
       "3   2014-12-24 15:02:20\n",
       "4   2014-12-25 16:08:10\n",
       "5   2014-12-31 23:44:12\n",
       "6   2015-02-16 01:13:01\n",
       "7   2015-02-16 15:00:13\n",
       "8   2015-03-01 23:30:27\n",
       "9   2015-04-18 16:34:29\n",
       "10  2015-05-03 22:38:55\n",
       "11  2015-06-05 21:43:36\n",
       "12  2015-06-17 22:46:21\n",
       "13  2015-06-29 00:07:01\n",
       "14  2015-07-04 22:54:50\n",
       "15  2015-07-18 22:02:45\n",
       "16  2015-08-09 22:36:17\n",
       "17  2015-09-11 00:24:15\n",
       "18  2015-10-03 23:50:00\n",
       "19  2015-10-24 23:05:09\n",
       "20  2015-10-31 22:35:27\n",
       "21  2015-11-07 22:10:52\n",
       "22  2015-12-31 14:55:55\n",
       "23  2016-01-20 21:53:38\n",
       "24  2016-03-05 19:17:50\n",
       "25  2016-03-25 15:55:07\n",
       "26  2016-03-26 16:15:27\n",
       "27  2016-07-14 23:14:31\n",
       "28  2016-07-19 23:16:41\n",
       "29  2016-07-29 22:12:44\n",
       "30  2016-08-04 16:25:20\n",
       "... ...                \n",
       "58  2018-07-07 22:10:30\n",
       "59  2018-07-14 23:25:01\n",
       "60  2018-07-22 23:51:27\n",
       "61  2018-08-12 16:03:42\n",
       "62  2018-09-16 23:34:44\n",
       "63  2018-09-20 23:42:05\n",
       "64  2018-09-25 16:27:03\n",
       "65  2018-09-29 23:36:45\n",
       "66  2018-10-27 18:39:42\n",
       "67  2018-11-17 16:33:50\n",
       "68  2018-12-21 23:03:12\n",
       "69  2018-12-29 15:41:39\n",
       "70  2019-02-24 22:52:34\n",
       "71  2019-03-02 23:45:09\n",
       "72  2019-03-28 18:53:08\n",
       "73  2019-04-14 00:38:27\n",
       "74  2019-04-14 00:54:01\n",
       "75  2019-04-17 21:50:56\n",
       "76  2019-05-03 23:22:31\n",
       "77  2019-05-05 22:28:44\n",
       "78  2019-11-07 23:35:41\n",
       "79  2019-12-21 00:39:17\n",
       "80  2019-12-24 18:30:54\n",
       "81  2020-01-01 23:20:58\n",
       "82  2020-01-10 00:34:27\n",
       "83  2020-01-10 23:45:10\n",
       "84  2020-01-22 23:23:07\n",
       "85  2020-01-26 17:39:44\n",
       "86  2020-05-16 22:48:15\n",
       "87  2020-06-16 14:36:21"
      ]
     },
     "metadata": {},
     "output_type": "display_data"
    }
   ],
   "source": [
    "dados %>% distinct(Scan.date)%>% arrange(Scan.date)"
   ]
  },
  {
   "cell_type": "markdown",
   "metadata": {},
   "source": [
    "Visto que temos uma data em branco vamos verificar qual é o registro afetado:"
   ]
  },
  {
   "cell_type": "code",
   "execution_count": 12,
   "metadata": {},
   "outputs": [
    {
     "data": {
      "text/html": [
       "<table>\n",
       "<thead><tr><th scope=col>Winery</th><th scope=col>Wine.name</th><th scope=col>Vintage</th><th scope=col>Region</th><th scope=col>Country</th><th scope=col>Regional.wine.style</th><th scope=col>Average.rating</th><th scope=col>Scan.date</th><th scope=col>Your.rating</th><th scope=col>Wine.type</th><th scope=col>Link.to.wine</th><th scope=col>Label.image</th></tr></thead>\n",
       "<tbody>\n",
       "\t<tr><td>Goldridge Estate                    </td><td>Pinot Noir                          </td><td>2011                                </td><td>Marlborough                         </td><td>New Zealand                         </td><td>New Zealand Pinot Noir              </td><td>3.3                                 </td><td>                                    </td><td>1.5                                 </td><td>Red Wine                            </td><td>https://www.vivino.com/wines/1741900</td><td>                                    </td></tr>\n",
       "</tbody>\n",
       "</table>\n"
      ],
      "text/latex": [
       "\\begin{tabular}{r|llllllllllll}\n",
       " Winery & Wine.name & Vintage & Region & Country & Regional.wine.style & Average.rating & Scan.date & Your.rating & Wine.type & Link.to.wine & Label.image\\\\\n",
       "\\hline\n",
       "\t Goldridge Estate                     & Pinot Noir                           & 2011                                 & Marlborough                          & New Zealand                          & New Zealand Pinot Noir               & 3.3                                  &                                      & 1.5                                  & Red Wine                             & https://www.vivino.com/wines/1741900 &                                     \\\\\n",
       "\\end{tabular}\n"
      ],
      "text/markdown": [
       "\n",
       "| Winery | Wine.name | Vintage | Region | Country | Regional.wine.style | Average.rating | Scan.date | Your.rating | Wine.type | Link.to.wine | Label.image |\n",
       "|---|---|---|---|---|---|---|---|---|---|---|---|\n",
       "| Goldridge Estate                     | Pinot Noir                           | 2011                                 | Marlborough                          | New Zealand                          | New Zealand Pinot Noir               | 3.3                                  |                                      | 1.5                                  | Red Wine                             | https://www.vivino.com/wines/1741900 |                                      |\n",
       "\n"
      ],
      "text/plain": [
       "  Winery           Wine.name  Vintage Region      Country    \n",
       "1 Goldridge Estate Pinot Noir 2011    Marlborough New Zealand\n",
       "  Regional.wine.style    Average.rating Scan.date Your.rating Wine.type\n",
       "1 New Zealand Pinot Noir 3.3                      1.5         Red Wine \n",
       "  Link.to.wine                         Label.image\n",
       "1 https://www.vivino.com/wines/1741900            "
      ]
     },
     "metadata": {},
     "output_type": "display_data"
    }
   ],
   "source": [
    "dados %>% filter(Scan.date==\"\")"
   ]
  },
  {
   "cell_type": "markdown",
   "metadata": {},
   "source": [
    "Verifiquei que a data está preenchida no Vivino, apesar de não estar nos dados que baixei: 28 de agosto de 2015. Em seguida realizei a correção do registro:"
   ]
  },
  {
   "cell_type": "code",
   "execution_count": 13,
   "metadata": {
    "collapsed": true
   },
   "outputs": [],
   "source": [
    "dados$Scan.date <- as.character(dados$Scan.date)\n",
    "\n",
    "dados <- dados %>%\n",
    "  mutate(Scan.date=replace(Scan.date,which(Scan.date==\"\"),\"2015-08-28 00:00:00\"))\n"
   ]
  },
  {
   "cell_type": "markdown",
   "metadata": {},
   "source": [
    "Por fim vamos salvar os dados em um arquivo csv para dar início ao trabalho no Tableau, já que as variáveis que potencialmente tem mais impacto foram saneadas:"
   ]
  },
  {
   "cell_type": "code",
   "execution_count": null,
   "metadata": {
    "collapsed": true
   },
   "outputs": [],
   "source": [
    "write.csv(dados,\"vinhos_vivino_jun_20.csv\")"
   ]
  },
  {
   "cell_type": "markdown",
   "metadata": {},
   "source": [
    "Caso você queira ver como ficou o dashboard no Tableau, basta accessá-lo no link:\n",
    "- https://public.tableau.com/profile/debora.coutinho#!/vizhome/Vivino_dashboard/VivinoDashboard?publish=yes"
   ]
  }
 ],
 "metadata": {
  "kernelspec": {
   "display_name": "R [conda env:Anaconda3]",
   "language": "R",
   "name": "conda-env-Anaconda3-r"
  },
  "language_info": {
   "codemirror_mode": "r",
   "file_extension": ".r",
   "mimetype": "text/x-r-source",
   "name": "R",
   "pygments_lexer": "r",
   "version": "3.6.1"
  }
 },
 "nbformat": 4,
 "nbformat_minor": 2
}
